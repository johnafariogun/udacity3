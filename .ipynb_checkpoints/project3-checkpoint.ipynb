{
 "cells": [
  {
   "cell_type": "markdown",
   "metadata": {},
   "source": [
    "# Part I - Exploration of data on fordgobike trips in San francisco for the month of febraury in the year 2019\n",
    "\n",
    "## by Afariogun John Tolulope\n",
    "\n",
    "## Introduction\n",
    "> This data set includes information about individual rides made in a bike-sharing system covering the greater San Francisco Bay area for the month of february\n",
    "\n"
   ]
  },
  {
   "cell_type": "code",
   "execution_count": 1,
   "metadata": {},
   "outputs": [],
   "source": [
    "# import all packages and set plots to be embedded inline\n",
    "import numpy as np\n",
    "import pandas as pd\n",
    "import matplotlib.pyplot as plt\n",
    "%matplotlib inline\n",
    "import seaborn as sb"
   ]
  },
  {
   "cell_type": "code",
   "execution_count": 2,
   "metadata": {},
   "outputs": [],
   "source": [
    "# Loading in the dataset\n",
    "ford_df = pd.read_csv('201902-fordgobike-tripdata.csv')"
   ]
  },
  {
   "cell_type": "markdown",
   "metadata": {},
   "source": [
    "# ASSESSING THE DATA"
   ]
  },
  {
   "cell_type": "code",
   "execution_count": 3,
   "metadata": {},
   "outputs": [
    {
     "data": {
      "text/plain": [
       "(183412, 16)"
      ]
     },
     "execution_count": 3,
     "metadata": {},
     "output_type": "execute_result"
    }
   ],
   "source": [
    "ford_df.shape"
   ]
  },
  {
   "cell_type": "code",
   "execution_count": 4,
   "metadata": {},
   "outputs": [
    {
     "data": {
      "text/html": [
       "<div>\n",
       "<style scoped>\n",
       "    .dataframe tbody tr th:only-of-type {\n",
       "        vertical-align: middle;\n",
       "    }\n",
       "\n",
       "    .dataframe tbody tr th {\n",
       "        vertical-align: top;\n",
       "    }\n",
       "\n",
       "    .dataframe thead th {\n",
       "        text-align: right;\n",
       "    }\n",
       "</style>\n",
       "<table border=\"1\" class=\"dataframe\">\n",
       "  <thead>\n",
       "    <tr style=\"text-align: right;\">\n",
       "      <th></th>\n",
       "      <th>duration_sec</th>\n",
       "      <th>start_time</th>\n",
       "      <th>end_time</th>\n",
       "      <th>start_station_id</th>\n",
       "      <th>start_station_name</th>\n",
       "      <th>start_station_latitude</th>\n",
       "      <th>start_station_longitude</th>\n",
       "      <th>end_station_id</th>\n",
       "      <th>end_station_name</th>\n",
       "      <th>end_station_latitude</th>\n",
       "      <th>end_station_longitude</th>\n",
       "      <th>bike_id</th>\n",
       "      <th>user_type</th>\n",
       "      <th>member_birth_year</th>\n",
       "      <th>member_gender</th>\n",
       "      <th>bike_share_for_all_trip</th>\n",
       "    </tr>\n",
       "  </thead>\n",
       "  <tbody>\n",
       "    <tr>\n",
       "      <td>0</td>\n",
       "      <td>52185</td>\n",
       "      <td>2019-02-28 17:32:10.1450</td>\n",
       "      <td>2019-03-01 08:01:55.9750</td>\n",
       "      <td>21.0</td>\n",
       "      <td>Montgomery St BART Station (Market St at 2nd St)</td>\n",
       "      <td>37.789625</td>\n",
       "      <td>-122.400811</td>\n",
       "      <td>13.0</td>\n",
       "      <td>Commercial St at Montgomery St</td>\n",
       "      <td>37.794231</td>\n",
       "      <td>-122.402923</td>\n",
       "      <td>4902</td>\n",
       "      <td>Customer</td>\n",
       "      <td>1984.0</td>\n",
       "      <td>Male</td>\n",
       "      <td>No</td>\n",
       "    </tr>\n",
       "    <tr>\n",
       "      <td>1</td>\n",
       "      <td>42521</td>\n",
       "      <td>2019-02-28 18:53:21.7890</td>\n",
       "      <td>2019-03-01 06:42:03.0560</td>\n",
       "      <td>23.0</td>\n",
       "      <td>The Embarcadero at Steuart St</td>\n",
       "      <td>37.791464</td>\n",
       "      <td>-122.391034</td>\n",
       "      <td>81.0</td>\n",
       "      <td>Berry St at 4th St</td>\n",
       "      <td>37.775880</td>\n",
       "      <td>-122.393170</td>\n",
       "      <td>2535</td>\n",
       "      <td>Customer</td>\n",
       "      <td>NaN</td>\n",
       "      <td>NaN</td>\n",
       "      <td>No</td>\n",
       "    </tr>\n",
       "    <tr>\n",
       "      <td>2</td>\n",
       "      <td>61854</td>\n",
       "      <td>2019-02-28 12:13:13.2180</td>\n",
       "      <td>2019-03-01 05:24:08.1460</td>\n",
       "      <td>86.0</td>\n",
       "      <td>Market St at Dolores St</td>\n",
       "      <td>37.769305</td>\n",
       "      <td>-122.426826</td>\n",
       "      <td>3.0</td>\n",
       "      <td>Powell St BART Station (Market St at 4th St)</td>\n",
       "      <td>37.786375</td>\n",
       "      <td>-122.404904</td>\n",
       "      <td>5905</td>\n",
       "      <td>Customer</td>\n",
       "      <td>1972.0</td>\n",
       "      <td>Male</td>\n",
       "      <td>No</td>\n",
       "    </tr>\n",
       "    <tr>\n",
       "      <td>3</td>\n",
       "      <td>36490</td>\n",
       "      <td>2019-02-28 17:54:26.0100</td>\n",
       "      <td>2019-03-01 04:02:36.8420</td>\n",
       "      <td>375.0</td>\n",
       "      <td>Grove St at Masonic Ave</td>\n",
       "      <td>37.774836</td>\n",
       "      <td>-122.446546</td>\n",
       "      <td>70.0</td>\n",
       "      <td>Central Ave at Fell St</td>\n",
       "      <td>37.773311</td>\n",
       "      <td>-122.444293</td>\n",
       "      <td>6638</td>\n",
       "      <td>Subscriber</td>\n",
       "      <td>1989.0</td>\n",
       "      <td>Other</td>\n",
       "      <td>No</td>\n",
       "    </tr>\n",
       "    <tr>\n",
       "      <td>4</td>\n",
       "      <td>1585</td>\n",
       "      <td>2019-02-28 23:54:18.5490</td>\n",
       "      <td>2019-03-01 00:20:44.0740</td>\n",
       "      <td>7.0</td>\n",
       "      <td>Frank H Ogawa Plaza</td>\n",
       "      <td>37.804562</td>\n",
       "      <td>-122.271738</td>\n",
       "      <td>222.0</td>\n",
       "      <td>10th Ave at E 15th St</td>\n",
       "      <td>37.792714</td>\n",
       "      <td>-122.248780</td>\n",
       "      <td>4898</td>\n",
       "      <td>Subscriber</td>\n",
       "      <td>1974.0</td>\n",
       "      <td>Male</td>\n",
       "      <td>Yes</td>\n",
       "    </tr>\n",
       "  </tbody>\n",
       "</table>\n",
       "</div>"
      ],
      "text/plain": [
       "   duration_sec                start_time                  end_time  \\\n",
       "0         52185  2019-02-28 17:32:10.1450  2019-03-01 08:01:55.9750   \n",
       "1         42521  2019-02-28 18:53:21.7890  2019-03-01 06:42:03.0560   \n",
       "2         61854  2019-02-28 12:13:13.2180  2019-03-01 05:24:08.1460   \n",
       "3         36490  2019-02-28 17:54:26.0100  2019-03-01 04:02:36.8420   \n",
       "4          1585  2019-02-28 23:54:18.5490  2019-03-01 00:20:44.0740   \n",
       "\n",
       "   start_station_id                                start_station_name  \\\n",
       "0              21.0  Montgomery St BART Station (Market St at 2nd St)   \n",
       "1              23.0                     The Embarcadero at Steuart St   \n",
       "2              86.0                           Market St at Dolores St   \n",
       "3             375.0                           Grove St at Masonic Ave   \n",
       "4               7.0                               Frank H Ogawa Plaza   \n",
       "\n",
       "   start_station_latitude  start_station_longitude  end_station_id  \\\n",
       "0               37.789625              -122.400811            13.0   \n",
       "1               37.791464              -122.391034            81.0   \n",
       "2               37.769305              -122.426826             3.0   \n",
       "3               37.774836              -122.446546            70.0   \n",
       "4               37.804562              -122.271738           222.0   \n",
       "\n",
       "                               end_station_name  end_station_latitude  \\\n",
       "0                Commercial St at Montgomery St             37.794231   \n",
       "1                            Berry St at 4th St             37.775880   \n",
       "2  Powell St BART Station (Market St at 4th St)             37.786375   \n",
       "3                        Central Ave at Fell St             37.773311   \n",
       "4                         10th Ave at E 15th St             37.792714   \n",
       "\n",
       "   end_station_longitude  bike_id   user_type  member_birth_year  \\\n",
       "0            -122.402923     4902    Customer             1984.0   \n",
       "1            -122.393170     2535    Customer                NaN   \n",
       "2            -122.404904     5905    Customer             1972.0   \n",
       "3            -122.444293     6638  Subscriber             1989.0   \n",
       "4            -122.248780     4898  Subscriber             1974.0   \n",
       "\n",
       "  member_gender bike_share_for_all_trip  \n",
       "0          Male                      No  \n",
       "1           NaN                      No  \n",
       "2          Male                      No  \n",
       "3         Other                      No  \n",
       "4          Male                     Yes  "
      ]
     },
     "execution_count": 4,
     "metadata": {},
     "output_type": "execute_result"
    }
   ],
   "source": [
    "ford_df.head()"
   ]
  },
  {
   "cell_type": "code",
   "execution_count": 5,
   "metadata": {},
   "outputs": [
    {
     "name": "stdout",
     "output_type": "stream",
     "text": [
      "<class 'pandas.core.frame.DataFrame'>\n",
      "RangeIndex: 183412 entries, 0 to 183411\n",
      "Data columns (total 16 columns):\n",
      "duration_sec               183412 non-null int64\n",
      "start_time                 183412 non-null object\n",
      "end_time                   183412 non-null object\n",
      "start_station_id           183215 non-null float64\n",
      "start_station_name         183215 non-null object\n",
      "start_station_latitude     183412 non-null float64\n",
      "start_station_longitude    183412 non-null float64\n",
      "end_station_id             183215 non-null float64\n",
      "end_station_name           183215 non-null object\n",
      "end_station_latitude       183412 non-null float64\n",
      "end_station_longitude      183412 non-null float64\n",
      "bike_id                    183412 non-null int64\n",
      "user_type                  183412 non-null object\n",
      "member_birth_year          175147 non-null float64\n",
      "member_gender              175147 non-null object\n",
      "bike_share_for_all_trip    183412 non-null object\n",
      "dtypes: float64(7), int64(2), object(7)\n",
      "memory usage: 22.4+ MB\n"
     ]
    }
   ],
   "source": [
    "ford_df.info()"
   ]
  },
  {
   "cell_type": "code",
   "execution_count": 6,
   "metadata": {},
   "outputs": [
    {
     "data": {
      "text/plain": [
       "0"
      ]
     },
     "execution_count": 6,
     "metadata": {},
     "output_type": "execute_result"
    }
   ],
   "source": [
    "sum(ford_df.duplicated())"
   ]
  },
  {
   "cell_type": "markdown",
   "metadata": {},
   "source": [
    "### The structure of the dataset?\n",
    "\n",
    "> There are 183412 records of trip in the dataset. Most variables are numeric in nature, but the variables user_type,station names are cateogrical in nature \n",
    "The dataset is noted to contain 183,412 unique entries(rows) and this are all grouped under 16 variables (columns)\n",
    "\n",
    "* duration_sec - total time of the trip in seconds\n",
    "* start_time - the starting time for the trip\n",
    "* end_time - the time when the trip came to an end\n",
    "* start_station_id -  a unique id given to the specific station where the trip was noted to start\n",
    "* start_station_name - the name of the station where the trip started\n",
    "* start_station_latitude - the latitude co-ordinate of the station where the trip started\n",
    "* start_station_longitude - the longitude co-ordinate of the station where the trip started\n",
    "* end_station_id - a unique id given to the specific station where the trip was noted to end\n",
    "* end_station_name - the name of the station where the trip ended\n",
    "* end_station_latitude - the latitude co-ordinate of the station where trip ended\n",
    "* end_station_longitude - the longitude co-ordinate of the station where trip ended\n",
    "* bike_id -  a unique id for the bikes\n",
    "* user_type - the type ascribed to the user if it is a subscriber or just a random cutomer, other\n",
    "* member_birth_year - the birth year of the user\n",
    "* member_gender - what gender the user belongs to, if male, female or other\n",
    "* bike_share_for_all_trip - if the user shared the bike at all for the trip\n",
    "\n",
    "### What is/are the main feature(s) of interest in your dataset?\n",
    "\n",
    "* What variables influence trip duration\n",
    "\n",
    "### What features in the dataset do you think will help support your investigation into your feature(s) of interest?\n",
    "\n",
    "* Trip Duration\n",
    "* User Type\n",
    "* Member gender\n",
    "* Member age"
   ]
  },
  {
   "cell_type": "markdown",
   "metadata": {},
   "source": [
    "\n",
    "## Preliminary Wrangling"
   ]
  },
  {
   "cell_type": "markdown",
   "metadata": {},
   "source": [
    "#### Creating a copy of the original data to carry out any data wrangling operations:\n",
    "- Converting columns **start_time** and **end_time** to DateTime format\n",
    "- Extracting the starting hour of the trip from the **start_time** into a **start_hour** column\n",
    "- Extracting the starting day of the trip from the **start_time** into a **day** column\n",
    "- Extracting the age of the user bu substracting the **member_birth_year** from year of the trips  into a **age** column, but first converting the **member_birth_year** to a *float* datattype\n",
    "- Calculating the distance of the trip in kilometer using python GeoPy package and collating them in a **distance_(km)** column.\n",
    "- Filling all categorical variable's missing value with unknown and numerical with 0, so as to try to maintain the integrity of the dataset"
   ]
  },
  {
   "cell_type": "code",
   "execution_count": 7,
   "metadata": {},
   "outputs": [],
   "source": [
    "df=ford_df.copy()"
   ]
  },
  {
   "cell_type": "markdown",
   "metadata": {},
   "source": [
    "Converiting datetime related columns to DateTime datatype"
   ]
  },
  {
   "cell_type": "code",
   "execution_count": 8,
   "metadata": {},
   "outputs": [],
   "source": [
    "df['start_time']=pd.to_datetime(df['start_time'])"
   ]
  },
  {
   "cell_type": "code",
   "execution_count": 9,
   "metadata": {},
   "outputs": [],
   "source": [
    "df['end_time']=pd.to_datetime(df['end_time'])"
   ]
  },
  {
   "cell_type": "markdown",
   "metadata": {},
   "source": [
    "Creating a new **start_hour** column which contains the hour that the trip started"
   ]
  },
  {
   "cell_type": "code",
   "execution_count": 10,
   "metadata": {},
   "outputs": [],
   "source": [
    "df['start_hour']=df['start_time'].dt.hour\n",
    "df['start_hour']=df['start_hour'].astype('category')    "
   ]
  },
  {
   "cell_type": "code",
   "execution_count": 11,
   "metadata": {},
   "outputs": [
    {
     "data": {
      "text/plain": [
       "[17, 18, 12, 23, 22, ..., 6, 4, 3, 2, 1]\n",
       "Length: 24\n",
       "Categories (24, int64): [17, 18, 12, 23, ..., 4, 3, 2, 1]"
      ]
     },
     "execution_count": 11,
     "metadata": {},
     "output_type": "execute_result"
    }
   ],
   "source": [
    "#check\n",
    "df.start_hour.unique()"
   ]
  },
  {
   "cell_type": "markdown",
   "metadata": {},
   "source": [
    "Creating a new **day** column which contains the weekday that the trip started"
   ]
  },
  {
   "cell_type": "code",
   "execution_count": 12,
   "metadata": {},
   "outputs": [],
   "source": [
    "df['day']=df['start_time'].dt.day_name()"
   ]
  },
  {
   "cell_type": "markdown",
   "metadata": {},
   "source": [
    "Extracting the age of the user into a **age** column from the **member_birth_year** column and doing this by substracting the column from the year that the data was gathered i.e. 2019"
   ]
  },
  {
   "cell_type": "code",
   "execution_count": 13,
   "metadata": {},
   "outputs": [],
   "source": [
    "df['member_birth_year']=df['member_birth_year'].astype('float')\n",
    "df['age'] = 2019 - df['member_birth_year']"
   ]
  },
  {
   "cell_type": "markdown",
   "metadata": {},
   "source": [
    "Creating a column to contain the distance in km the trip covers for analysis. Titled **distance_(km)**"
   ]
  },
  {
   "cell_type": "code",
   "execution_count": null,
   "metadata": {},
   "outputs": [
    {
     "name": "stderr",
     "output_type": "stream",
     "text": [
      "C:\\Users\\HP\\Anaconda3\\lib\\site-packages\\ipykernel_launcher.py:8: SettingWithCopyWarning: \n",
      "A value is trying to be set on a copy of a slice from a DataFrame\n",
      "\n",
      "See the caveats in the documentation: http://pandas.pydata.org/pandas-docs/stable/user_guide/indexing.html#returning-a-view-versus-a-copy\n",
      "  \n"
     ]
    }
   ],
   "source": [
    "df['distance_(km)']= 0\n",
    "df['distance_(km)']=df['distance_(km)'].astype('float')\n",
    "import geopy\n",
    "from geopy.distance import geodesic as GD\n",
    "for i in range(len(df)):\n",
    "    coords_1 = (df['start_station_latitude'][i],df['start_station_longitude'][i])\n",
    "    coords_2 = (df['end_station_latitude'][i], df['end_station_longitude'][i])\n",
    "    df['distance_(km)'][i] = (GD(coords_1, coords_2).km)\n",
    "  "
   ]
  },
  {
   "cell_type": "markdown",
   "metadata": {},
   "source": [
    "### Testing if the wrangling were all successful so far"
   ]
  },
  {
   "cell_type": "code",
   "execution_count": null,
   "metadata": {},
   "outputs": [],
   "source": [
    "df.info()"
   ]
  },
  {
   "cell_type": "code",
   "execution_count": null,
   "metadata": {},
   "outputs": [],
   "source": [
    "df.isna().sum()"
   ]
  },
  {
   "cell_type": "markdown",
   "metadata": {},
   "source": [
    "Filling non-numeric missing values with **unknown** as a placeholder and changing their datatype to category "
   ]
  },
  {
   "cell_type": "code",
   "execution_count": null,
   "metadata": {},
   "outputs": [],
   "source": [
    "df.loc[:,['start_station_id','member_gender','start_station_name','end_station_name','end_station_id']]=df.loc[:,['start_station_id','start_station_name','member_gender','end_station_name','end_station_id']].fillna('Unknown')"
   ]
  },
  {
   "cell_type": "code",
   "execution_count": null,
   "metadata": {},
   "outputs": [],
   "source": [
    "df.info()"
   ]
  },
  {
   "cell_type": "code",
   "execution_count": null,
   "metadata": {},
   "outputs": [],
   "source": [
    "df.loc[0:,['start_station_id','start_station_name','end_station_id','end_station_name','bike_id','user_type','member_gender']]=df.loc[0:,['start_station_id','start_station_name','end_station_id','end_station_name','bike_id','user_type','member_gender']].astype('category')"
   ]
  },
  {
   "cell_type": "code",
   "execution_count": null,
   "metadata": {
    "scrolled": true
   },
   "outputs": [],
   "source": [
    "df.info()"
   ]
  },
  {
   "cell_type": "markdown",
   "metadata": {},
   "source": [
    "In turn filling missing numeric variables with 0, so as to not cause conflicts when plotting the data"
   ]
  },
  {
   "cell_type": "code",
   "execution_count": null,
   "metadata": {},
   "outputs": [],
   "source": [
    "df.loc[:,['age','member_birth_year']]=df.loc[:,['age','member_birth_year']].fillna(0)"
   ]
  },
  {
   "cell_type": "markdown",
   "metadata": {},
   "source": [
    "## Taking a look at our dataframe"
   ]
  },
  {
   "cell_type": "code",
   "execution_count": null,
   "metadata": {},
   "outputs": [],
   "source": [
    "df.info()"
   ]
  },
  {
   "cell_type": "code",
   "execution_count": null,
   "metadata": {},
   "outputs": [],
   "source": [
    "df.head()"
   ]
  },
  {
   "cell_type": "markdown",
   "metadata": {},
   "source": [
    "# PLOTTING"
   ]
  },
  {
   "cell_type": "markdown",
   "metadata": {},
   "source": [
    "## Univariate Exploration"
   ]
  },
  {
   "cell_type": "markdown",
   "metadata": {},
   "source": [
    "Creating a new dataframe whivh contains all of the columns that are to be used in this analysis, which are the:\n",
    "- "
   ]
  },
  {
   "cell_type": "code",
   "execution_count": null,
   "metadata": {},
   "outputs": [],
   "source": [
    "plot=df.loc[:,['duration_sec','start_hour','start_time','end_time','day','start_station_name','end_station_name','bike_id','user_type','age','bike_share_for_all_trip','member_gender','distance_(km)']]"
   ]
  },
  {
   "cell_type": "code",
   "execution_count": null,
   "metadata": {},
   "outputs": [],
   "source": [
    "# Defining the default color in seaborn in case i use it at any point\n",
    "color=sb.color_palette()[0]"
   ]
  },
  {
   "cell_type": "code",
   "execution_count": null,
   "metadata": {},
   "outputs": [],
   "source": [
    "plot.info()"
   ]
  },
  {
   "cell_type": "code",
   "execution_count": null,
   "metadata": {},
   "outputs": [],
   "source": [
    "plt.hist(data=plot,x='duration_sec',bins=20);"
   ]
  },
  {
   "cell_type": "markdown",
   "metadata": {},
   "source": [
    "When assessing the data earlier there were some values which were greater than 20,000 secs in the dataset and the prescence of higher values in this plot lends credence to that fact. So redoing the plot but this time with some xlims to properly see the distribution"
   ]
  },
  {
   "cell_type": "code",
   "execution_count": null,
   "metadata": {
    "scrolled": true
   },
   "outputs": [],
   "source": [
    "bins = np.arange(0, 1800+20, 20)\n",
    "plt.hist(data=plot,x='duration_sec',bins=bins);\n",
    "plt.xlim([0,1800]);\n",
    "plt.xlabel('Duration (secs)', size=12)\n",
    "plt.ylabel('Count', size=10)\n",
    "plt.title('Distribution of the time in seconds')\n",
    "y_ticklocs=[0,1000,2000,3000, 4000,5000]\n",
    "y_ticklabels=['0','1k','2k','3k','4k','5k']\n",
    "plt.yticks(y_ticklocs, y_ticklabels);"
   ]
  },
  {
   "cell_type": "markdown",
   "metadata": {},
   "source": [
    "We can see from the plot that it is right skewed and unimodal, with a peak between 200 and 400 secs, maybe 300 seconds."
   ]
  },
  {
   "cell_type": "code",
   "execution_count": null,
   "metadata": {},
   "outputs": [],
   "source": [
    "bins = np.arange(0, 1800+20, 20)\n",
    "plt.hist(data=plot,x='duration_sec',bins=bins);\n",
    "ticks=np.arange(0,31,2)\n",
    "tick_ =np.arange(0,1920,120)\n",
    "plt.xlim([0,1800]);\n",
    "plt.xticks(tick_,ticks);\n",
    "plt.xlabel('Duration (mins)')\n",
    "plt.xlabel('Duration (Seconds)', size=14)\n",
    "plt.ylabel('Count', size=11)\n",
    "plt.title('Distribution of Trip Duration', size=16);\n",
    "y_ticklocs=[0,1000,2000,3000, 4000,5000]\n",
    "y_ticklabels=['0','1k','2k','3k','4k','5k']\n",
    "plt.yticks(y_ticklocs, y_ticklabels);"
   ]
  },
  {
   "cell_type": "markdown",
   "metadata": {},
   "source": [
    "Taking a look at this visualization again, but with the tick marks in mins for better visualization. This shows us that the trips peaked at 5mins which is at 300 seconds, which is the duration most trips took"
   ]
  },
  {
   "cell_type": "code",
   "execution_count": null,
   "metadata": {},
   "outputs": [],
   "source": [
    "# The Duration with a logarithmic scale and x-axis limit\n",
    "bins=np.arange(60,1e4,20)\n",
    "plt.hist(data=plot,x='duration_sec',bins=bins)\n",
    "plt.xscale('log')\n",
    "plt.xlim(60,1e4)\n",
    "x_ticklocs=[60,200,500,1000,2000,5000,10000]\n",
    "x_ticklabels=['60','200','500','1k','2k','5k','10k']\n",
    "plt.xticks(x_ticklocs, x_ticklabels)\n",
    "plt.xlabel('Duration (Seconds)', size=14)\n",
    "plt.ylabel('Count', size=13)\n",
    "plt.title('Distribution of Trip Duration', size=16);\n",
    "y_ticklocs=[0,1000,2000,3000, 4000,5000]\n",
    "y_ticklabels=['0','1k','2k','3k','4k','5k']\n",
    "plt.yticks(y_ticklocs, y_ticklabels);"
   ]
  },
  {
   "cell_type": "markdown",
   "metadata": {},
   "source": [
    "After applying log transfrom to the data we can see that it is still unimodal, but looks somewhat symmetric, still right-skewed though."
   ]
  },
  {
   "cell_type": "markdown",
   "metadata": {},
   "source": []
  },
  {
   "cell_type": "code",
   "execution_count": null,
   "metadata": {},
   "outputs": [],
   "source": [
    "\n",
    "plt.figure(figsize=[12,5])\n",
    "bins =np.arange(0, 10+1/5,1/5)\n",
    "plt.hist(data=plot, x='distance_(km)',bins=bins);\n",
    "ticks=np.arange(0,10.4,0.4)\n",
    "plt.xticks(ticks);\n",
    "plt.xlabel('Distance Traveled (km)', size=12);\n",
    "y_ticklocs=[0,2500,5000,10000, 12500,15000,17500]\n",
    "y_ticklabels=['0','2.5k','5k','7.5k','10k','12.5k','15k','17.5k']\n",
    "plt.yticks(y_ticklocs, y_ticklabels);\n",
    "plt.ylabel('Count', size=12)\n",
    "plt.title('Distribution of the distance traveled in km', size=15)"
   ]
  },
  {
   "cell_type": "markdown",
   "metadata": {},
   "source": [
    "Taking a look at the distances traveled, we can see that the bikes were generally used for trips within the range of 2km with the most trips being between the distances 0.8 and 1.2 km, our data is right skewed and bimodal"
   ]
  },
  {
   "cell_type": "code",
   "execution_count": null,
   "metadata": {},
   "outputs": [],
   "source": [
    "label=np.arange(0,95,5);\n",
    "bins=np.arange(0,plot['age'].max()+2,2);\n",
    "plt.hist(data=plot[plot['age'] !=0],x='age',bins=bins);\n",
    "plt.xlim([0,90]);\n",
    "plt.xticks(label,rotation=90);\n",
    "y_ticklocs=[0,2500,5000,7500,10000, 12500,15000,17500]\n",
    "y_ticklabels=['0','2.5k','5k','7.5k','10k','12.5k','15k','17.5k']\n",
    "plt.yticks(y_ticklocs, y_ticklabels);\n",
    "plt.xlabel('age')\n",
    "plt.ylabel('count')\n",
    "plt.title('Distribution of age')"
   ]
  },
  {
   "cell_type": "markdown",
   "metadata": {},
   "source": [
    "From the this plot, the the most trips where by people within the age range of age 25 and 40, which we can assume to be the working class or more of the youth of the population."
   ]
  },
  {
   "cell_type": "code",
   "execution_count": null,
   "metadata": {},
   "outputs": [],
   "source": [
    "plot.age.value_counts().nlargest(25).plot(kind='bar')\n",
    "y_ticklocs=[0,2000,4000,6000,8000,10000]\n",
    "y_ticklabels=['0','2k','4k','6k','8k','10k']\n",
    "plt.yticks(y_ticklocs, y_ticklabels);\n",
    "plt.xlabel('age')\n",
    "plt.ylabel('count')\n",
    "plt.title('Distribution of the 25 most frequent ages')"
   ]
  },
  {
   "cell_type": "markdown",
   "metadata": {},
   "source": [
    "Further analysis shows that the age with the most trips is at age 31, followed by 26 and so on. Further supporting the theory that fordgobike users are workers"
   ]
  },
  {
   "cell_type": "markdown",
   "metadata": {},
   "source": [
    "### Taking a look at the distribution of the trip starting hours"
   ]
  },
  {
   "cell_type": "code",
   "execution_count": null,
   "metadata": {},
   "outputs": [],
   "source": [
    "plot['start_hour'].value_counts().plot(kind='bar')\n",
    "y_ticklocs=[0,2000,4000,6000,8000,10000,15e3,20e3]\n",
    "y_ticklabels=['0','2k','4k','6k','8k','10k','15k','20k']\n",
    "plt.yticks(y_ticklocs, y_ticklabels);\n",
    "plt.xlabel('Trip start time (hours)')\n",
    "plt.ylabel('Count')\n",
    "plt.title('Number of trips at different hours of the day');"
   ]
  },
  {
   "cell_type": "markdown",
   "metadata": {},
   "source": [
    "We can see that at time 8 am and 5 pm were the most common periods of the day when trips started. Also generally most trips were between 7-9 am and 4-6 pm. Which actually correlates with the fact that most of fordgobike users are of the working class. With the least trips being within the range of 3 hours after and before midnight."
   ]
  },
  {
   "cell_type": "markdown",
   "metadata": {},
   "source": [
    " This relationship will be further investigated during the Bivariate and Multivariate analysis. "
   ]
  },
  {
   "cell_type": "code",
   "execution_count": null,
   "metadata": {},
   "outputs": [],
   "source": [
    "users=plot['user_type'].value_counts()\n",
    "plt.pie(users,labels=users.index);\n",
    "plt.title('A pie depicting the types of users and their relative frequency');\n",
    "plt.legend()"
   ]
  },
  {
   "cell_type": "markdown",
   "metadata": {},
   "source": [
    "As seen the amount of subscribers which use fordgobikes dwarf those who are just casual or one off users"
   ]
  },
  {
   "cell_type": "code",
   "execution_count": null,
   "metadata": {},
   "outputs": [],
   "source": [
    "users.plot(kind='bar')\n",
    "y_ticklocs=[0,20000,40000,60000,80000,100000, 120000,140000,160000]\n",
    "y_ticklabels=['0','20k','40k','60k','80k','100k','120k','140k','160k']\n",
    "plt.yticks(y_ticklocs, y_ticklabels);\n",
    "plt.xlabel('User type')\n",
    "plt.ylabel('Count')\n",
    "plt.title('Count of the various user types');"
   ]
  },
  {
   "cell_type": "markdown",
   "metadata": {},
   "source": [
    "Taking a closer look, as above we see that while subscribers took just north of 160000 trips, customers took barely 20,000 trips"
   ]
  },
  {
   "cell_type": "code",
   "execution_count": null,
   "metadata": {},
   "outputs": [],
   "source": [
    "plot.info()"
   ]
  },
  {
   "cell_type": "code",
   "execution_count": null,
   "metadata": {},
   "outputs": [],
   "source": [
    "color=sb.color_palette()[0]\n",
    "sb.countplot(data=plot, x='member_gender',color=color);\n",
    "y_ticklocs=[0,20000,40000,60000,80000,100000, 120000]\n",
    "y_ticklabels=['0','20k','40k','60k','80k','100k','120k']\n",
    "plt.yticks(y_ticklocs, y_ticklabels);"
   ]
  },
  {
   "cell_type": "markdown",
   "metadata": {},
   "source": [
    "Males make up most of fordgobike's users more than 120,000 trips were made by males. Though is this because of bikes require more strenous work to use. This will be further investigated during the Bivariate exploration. The female gender are the next most users of firdgibikes around 40,000 trips. While those who identify as Other gender use forgobikes barely and those whose gender are not registered come up as the third most populous user of fordgobikes "
   ]
  },
  {
   "cell_type": "code",
   "execution_count": null,
   "metadata": {},
   "outputs": [],
   "source": [
    "gender=plot['member_gender'].value_counts()\n",
    "plt.pie(gender,labels=gender.index);\n",
    "plt.title('Plot of gender distribution');\n",
    "plt.legend()"
   ]
  },
  {
   "cell_type": "markdown",
   "metadata": {},
   "source": [
    "Here we can see clearly how the gender distribution is in the dataset"
   ]
  },
  {
   "cell_type": "code",
   "execution_count": null,
   "metadata": {},
   "outputs": [],
   "source": [
    "sb.countplot(data=plot, x='bike_share_for_all_trip',color=color);\n",
    "y_ticklocs=[0,20000,40000,60000,80000,100000, 120000,140000,160000]\n",
    "y_ticklabels=['0','20k','40k','60k','80k','100k','120k','140k','160k']\n",
    "plt.yticks(y_ticklocs, y_ticklabels);\n",
    "plt.title('Plot showing bike sharing for all trips')"
   ]
  },
  {
   "cell_type": "markdown",
   "metadata": {},
   "source": [
    "From this we can say that most people didn't share their bikes for the duration of their trips"
   ]
  },
  {
   "cell_type": "code",
   "execution_count": null,
   "metadata": {},
   "outputs": [],
   "source": [
    "plt.figure(figsize=[10,5])\n",
    "sb.countplot(data=plot,x='day',color=color);\n",
    "plt.title('Distribution of trips accross days')"
   ]
  },
  {
   "cell_type": "markdown",
   "metadata": {},
   "source": [
    "Most trips were taken during weekdays, which might be during work hour while the least were taken during the weekend"
   ]
  },
  {
   "cell_type": "code",
   "execution_count": null,
   "metadata": {},
   "outputs": [],
   "source": [
    "df['start_time'].dt.strftime('%d-%m').value_counts().sort_index().plot(kind='line', title='Fordgobike\\' trips over time', figsize=(12,10));\n",
    "plt.xlabel('Day, Month');\n",
    "plt.ylabel('Trips');"
   ]
  },
  {
   "cell_type": "markdown",
   "metadata": {},
   "source": [
    "Taking a look at the progression of number of trips over the month of febraury we can see that there is a gradual increase trend "
   ]
  },
  {
   "cell_type": "code",
   "execution_count": null,
   "metadata": {},
   "outputs": [],
   "source": [
    "bikes=plot.bike_id.value_counts().nlargest(20)\n",
    "bikes.plot(kind='bar')\n",
    "plt.xlabel('Bike ids')\n",
    "plt.ylabel('Count')\n",
    "plt.title('The bikes which took the most trips');"
   ]
  },
  {
   "cell_type": "markdown",
   "metadata": {},
   "source": [
    "## Bivariate Exploration\n",
    "### Taking a look at influence of particular days on other variables"
   ]
  },
  {
   "cell_type": "markdown",
   "metadata": {},
   "source": [
    "First taking a look at the mean trip duration and the days of the week"
   ]
  },
  {
   "cell_type": "code",
   "execution_count": null,
   "metadata": {},
   "outputs": [],
   "source": [
    "plot['duration_sec'].groupby(plot['day']).mean().sort_values(ascending=False).plot(kind='bar')\n",
    "plt.ylabel('Mean trip duration')\n",
    "plt.title('Plot of days compared to mean trip duration');"
   ]
  },
  {
   "cell_type": "markdown",
   "metadata": {},
   "source": [
    "Here we can see that during the weekend was when there were longer trips, probably for leisure and exercising. Next taking a llok at which day had the most time spent on trips, which will basically tell us the duration that forgobike bikes were out on the streets"
   ]
  },
  {
   "cell_type": "code",
   "execution_count": null,
   "metadata": {},
   "outputs": [],
   "source": [
    "plot['duration_sec'].groupby(plot['day']).sum().sort_values(ascending=False).plot(kind='bar')\n",
    "plt.ylabel('Sum trip duration')\n",
    "plt.title('Plot of days compared to sum of all trip duration');"
   ]
  },
  {
   "cell_type": "markdown",
   "metadata": {},
   "source": [
    "From the plot above we can already tell that more trips were taken during the week than the weekend cumulating in longer time. With Thursday having the most trip duration"
   ]
  },
  {
   "cell_type": "code",
   "execution_count": null,
   "metadata": {},
   "outputs": [],
   "source": [
    "plot['distance_(km)'].groupby(plot['day']).mean().sort_values(ascending=False).plot(kind='bar')\n",
    "plt.ylabel('Mean trip distance')\n",
    "plt.title('Plot of days compared to mean trip duration');"
   ]
  },
  {
   "cell_type": "markdown",
   "metadata": {},
   "source": [
    "From this plot we can tell that longer trips were taken during the week than on weekends"
   ]
  },
  {
   "cell_type": "markdown",
   "metadata": {},
   "source": [
    "### Taking a glance at the influence of age on the other variables"
   ]
  },
  {
   "cell_type": "markdown",
   "metadata": {},
   "source": [
    "First looking at how long was the trip for users at different ages"
   ]
  },
  {
   "cell_type": "code",
   "execution_count": null,
   "metadata": {},
   "outputs": [],
   "source": [
    "sb.regplot(data=plot,x='age',y='duration_sec',fit_reg=False, x_jitter=0.4, scatter_kws={'alpha':1/6})\n",
    "y_ticklocs=[0,20000,40000,60000,80000]\n",
    "y_ticklabels=['0','20k','40k','60k','80k']\n",
    "plt.yticks(y_ticklocs, y_ticklabels);\n",
    "plt.xlabel('Age (years)')\n",
    "plt.ylabel('Duration (Seconds)')\n",
    "plt.title('Age and Duration');"
   ]
  },
  {
   "cell_type": "markdown",
   "metadata": {},
   "source": [
    "First we might notice that there are multiple outliers in the plot. first is the the 0 age which was given to those whose age is unknown it detracts from the plot, also we have multiple outliers starting at 100 years, as people above or even close to that age shouldn't be able to ride bikes, we will remove that from the visualization"
   ]
  },
  {
   "cell_type": "code",
   "execution_count": null,
   "metadata": {},
   "outputs": [],
   "source": [
    "sb.regplot(data=plot,x='age',y='duration_sec',fit_reg=False, x_jitter=0.4, scatter_kws={'alpha':1/6})\n",
    "y_ticklocs=[0,20000,40000,60000,80000]\n",
    "y_ticklabels=['0','20k','40k','60k','80k']\n",
    "plt.yticks(y_ticklocs, y_ticklabels);\n",
    "plt.xlim([15,95])\n",
    "plt.xlabel('Age (years)')\n",
    "plt.ylabel('Duration (Seconds)')\n",
    "plt.title('Age and Duration');\n"
   ]
  },
  {
   "cell_type": "markdown",
   "metadata": {},
   "source": [
    "Now taking a look at this plot, we can see that the longest trips were taken by those below 60 years of age and there is high density of users at ages until 50 years, were it begins to taper out and we have the least duration at age 80, excluding additional outliers"
   ]
  },
  {
   "cell_type": "code",
   "execution_count": null,
   "metadata": {},
   "outputs": [],
   "source": [
    "sb.boxplot(data=plot,x='user_type',y='age',color=color)\n",
    "plt.title('Distribution of the usert types based on age')"
   ]
  },
  {
   "cell_type": "markdown",
   "metadata": {},
   "source": [
    "From this we can see that most of fordgobike's subscribers were generally older than their regular customers"
   ]
  },
  {
   "cell_type": "code",
   "execution_count": null,
   "metadata": {},
   "outputs": [],
   "source": [
    "sb.boxplot(data=plot,x='member_gender',y='age',color=color);\n",
    "plt.title('Plot of the various member genders against their age');"
   ]
  },
  {
   "cell_type": "code",
   "execution_count": null,
   "metadata": {},
   "outputs": [],
   "source": [
    "plot['age'].groupby(plot['member_gender']).mean().sort_values(ascending=False).plot(kind='bar');\n",
    "plt.ylabel('Mean age')\n",
    "plt.title('Mean age for the various member genders')"
   ]
  },
  {
   "cell_type": "markdown",
   "metadata": {},
   "source": [
    "Users who identify as Other are on a average the older of the different genders."
   ]
  },
  {
   "cell_type": "code",
   "execution_count": null,
   "metadata": {},
   "outputs": [],
   "source": [
    "plot['age'].groupby(plot['start_hour']).mean().sort_values(ascending=False).plot(kind='bar')\n",
    "plt.ylabel('Mean age of users')\n",
    "plt.title('Plot of age compared to the start time (hour) of the trip');"
   ]
  },
  {
   "cell_type": "markdown",
   "metadata": {},
   "source": [
    "The mean age of those who took trips starting at hour 4:00am are the most."
   ]
  },
  {
   "cell_type": "code",
   "execution_count": null,
   "metadata": {},
   "outputs": [],
   "source": [
    "sb.regplot(data=plot,x='age',y='distance_(km)',fit_reg=False, x_jitter=0.08, scatter_kws={'alpha':1/6});\n",
    "plt.ylim([0,20])\n",
    "plt.xlim([15,100]);\n",
    "plt.title('Plot of user age against distance of trip');"
   ]
  },
  {
   "cell_type": "markdown",
   "metadata": {},
   "source": [
    "A greater concentration of users who take trips of longer distances are within the age range 20 and 50. Corellating with the earlier assumption during the univariate analysis"
   ]
  },
  {
   "cell_type": "markdown",
   "metadata": {},
   "source": [
    "## Taking a look at the influence of other factors on the  duration of trip"
   ]
  },
  {
   "cell_type": "code",
   "execution_count": null,
   "metadata": {},
   "outputs": [],
   "source": [
    "sb.boxplot(data=plot,x='user_type',y='duration_sec')\n",
    "y_ticklocs=[0,20000,40000,60000,80000]\n",
    "y_ticklabels=['0','20k','40k','60k','80k']\n",
    "plt.yticks(y_ticklocs, y_ticklabels);"
   ]
  },
  {
   "cell_type": "markdown",
   "metadata": {},
   "source": [
    "We see that user_type seemingly does not have any disjoint relationship with duration, but applying log transform to the numerical y variable to confirm"
   ]
  },
  {
   "cell_type": "code",
   "execution_count": null,
   "metadata": {},
   "outputs": [],
   "source": [
    "plt.figure(figsize=[6,6])\n",
    "sb.boxplot(data=plot,x='user_type',y='duration_sec',color=color)\n",
    "plt.yscale('log')\n",
    "y_ticklocs=[100,200,500,1000,2e3,5e3,1e4,2e4,4e4,8e4]\n",
    "y_ticklabels=['100','200','500','1k','2k','5k','10k','20k','40k','80k']\n",
    "plt.yticks(y_ticklocs,y_ticklabels)\n",
    "plt.xlabel('User Type')\n",
    "plt.ylabel('Duration (Seconds)')\n",
    "plt.title('The Effect of User Type on the Duration of the Trip');"
   ]
  },
  {
   "cell_type": "markdown",
   "metadata": {},
   "source": [
    "After the application of the log transform we can clearly see that Subscribers generally spend lesser time on trips as opposed to just customers. This might be due to special priviledges given to subscribers, but it might also be due to other factors we will investigate this further in our analysis"
   ]
  },
  {
   "cell_type": "markdown",
   "metadata": {},
   "source": [
    "Taking a look at influence of member_gender on duration of trip, simply reusing the same code as before for the log transform but this time with *member_gender* instead of *user_type*"
   ]
  },
  {
   "cell_type": "code",
   "execution_count": null,
   "metadata": {},
   "outputs": [],
   "source": [
    "plt.figure(figsize=[6,6])\n",
    "sb.boxplot(data=plot,x='member_gender',y='duration_sec',color=color)\n",
    "plt.yscale('log')\n",
    "y_ticklocs=[100,200,500,1000,2e3,5e3,1e4,2e4,4e4,8e4]\n",
    "y_ticklabels=['100','200','500','1k','2k','5k','10k','20k','40k','80k']\n",
    "plt.yticks(y_ticklocs,y_ticklabels)\n",
    "plt.xlabel('Member gender')\n",
    "plt.ylabel('Duration (Seconds)')\n",
    "plt.title('The Effect of User Type on the Duration of the Trip');"
   ]
  },
  {
   "cell_type": "markdown",
   "metadata": {},
   "source": [
    "Taking a look at the duration with resspect to gender, we find that males generally spend lesser time on trips."
   ]
  },
  {
   "cell_type": "code",
   "execution_count": null,
   "metadata": {},
   "outputs": [],
   "source": [
    "plt.figure(figsize=[6,6])\n",
    "sb.boxplot(data=plot,x='bike_share_for_all_trip',y='duration_sec',color=color)\n",
    "plt.yscale('log')\n",
    "y_ticklocs=[100,200,500,1000,2e3,5e3,1e4,2e4,4e4,8e4]\n",
    "y_ticklabels=['100','200','500','1k','2k','5k','10k','20k','40k','80k']\n",
    "plt.yticks(y_ticklocs,y_ticklabels)\n",
    "plt.xlabel('Bike sharing for all trips')\n",
    "plt.ylabel('Duration (Seconds)')\n",
    "plt.title('The Effect of User Type on the Duration of the Trip');"
   ]
  },
  {
   "cell_type": "markdown",
   "metadata": {},
   "source": [
    "The visualization shows that users who do not share bikes generally spend more time on trips "
   ]
  },
  {
   "cell_type": "code",
   "execution_count": null,
   "metadata": {},
   "outputs": [],
   "source": [
    "sb.regplot(data=plot,x='distance_(km)',y='duration_sec',fit_reg=False, x_jitter=0.08, scatter_kws={'alpha':1/6})\n",
    "plt.yscale('log')\n",
    "y_ticklocs=[100,200,500,1000,2e3,5e3,1e4,2e4,4e4,8e4]\n",
    "y_ticklabels=['100','200','500','1k','2k','5k','10k','20k','40k','80k']\n",
    "plt.yticks(y_ticklocs,y_ticklabels);\n",
    "plt.xlim([0,20])\n",
    "plt.ylabel('Duration (sec))')\n",
    "plt.xlabel('Distance (km)')\n",
    "plt.title('Distance against Duration');\n"
   ]
  },
  {
   "cell_type": "markdown",
   "metadata": {},
   "source": [
    "As seen there is a generally direct correllation between Distance of trip and the trip duration"
   ]
  },
  {
   "cell_type": "markdown",
   "metadata": {},
   "source": [
    "## Multivariate Plots\n",
    "Making some multivariate plots to confirm the relationships between:\n",
    "\n",
    "- distance of the trip\n",
    "- user type\n",
    "- duration of trip\n",
    "- bike_share_for_all_trip\n",
    "- member gender\n",
    "- age"
   ]
  },
  {
   "cell_type": "code",
   "execution_count": null,
   "metadata": {},
   "outputs": [],
   "source": [
    "sb.scatterplot(data=plot,x='distance_(km)',y='duration_sec',hue='bike_share_for_all_trip')\n",
    "plt.yscale('log')\n",
    "y_ticklocs=[100,200,500,1000,2e3,5e3,1e4,2e4,4e4,8e4]\n",
    "y_ticklabels=['100','200','500','1k','2k','5k','10k','20k','40k','80k']\n",
    "plt.yticks(y_ticklocs,y_ticklabels);\n",
    "plt.xlim([0,20])\n",
    "plt.legend(bbox_to_anchor =(1.25, 1.23))\n",
    "plt.title('Effect of bike_share_for_all_trip on distance and duration of travel')"
   ]
  },
  {
   "cell_type": "markdown",
   "metadata": {},
   "source": [
    "From this plot we can see that most of the trips in which bikes were shared were mostly at a small distance and did not last for a long time. This actually confirms for us our earlier analysis that those who share bikes have a shorter trip period than those who didn't "
   ]
  },
  {
   "cell_type": "code",
   "execution_count": null,
   "metadata": {},
   "outputs": [],
   "source": [
    "sb.scatterplot(data=plot,x='distance_(km)',y='duration_sec',hue='user_type',x_jitter=0.2)\n",
    "plt.yscale('log')\n",
    "y_ticklocs=[100,200,500,1000,2e3,5e3,1e4,2e4,4e4,8e4]\n",
    "y_ticklabels=['100','200','500','1k','2k','5k','10k','20k','40k','80k']\n",
    "plt.yticks(y_ticklocs,y_ticklabels);\n",
    "plt.xlim([0,20]);\n",
    "plt.title('Effect of user_type on distance and duration of travel')"
   ]
  },
  {
   "cell_type": "markdown",
   "metadata": {},
   "source": [
    "This plot shows that most subscribers spend lesser time on their trips and also go on short trips as opposed to regular customers"
   ]
  },
  {
   "cell_type": "code",
   "execution_count": null,
   "metadata": {},
   "outputs": [],
   "source": [
    "sb.scatterplot(data=plot,x='distance_(km)',y='duration_sec',hue='member_gender',x_jitter=0.5)\n",
    "plt.yscale('log')\n",
    "y_ticklocs=[100,200,500,1000,2e3,5e3,1e4,2e4,4e4,8e4]\n",
    "y_ticklabels=['100','200','500','1k','2k','5k','10k','20k','40k','80k']\n",
    "plt.yticks(y_ticklocs,y_ticklabels);\n",
    "plt.xlim([0,20])\n",
    "plt.title('Effect of member_gender on distance and duration of travel')"
   ]
  },
  {
   "cell_type": "markdown",
   "metadata": {},
   "source": [
    "There is a far greater distribution of men who go on further trips but also spend lesser times on their trips, though considering that the data contains more of males than female this may be a bias"
   ]
  },
  {
   "cell_type": "code",
   "execution_count": null,
   "metadata": {},
   "outputs": [],
   "source": [
    "g=sb.FacetGrid(data=plot,col='member_gender',row='user_type',height=3,margin_titles=True)\n",
    "g.map(plt.scatter, 'distance_(km)','duration_sec')\n",
    "# plt.yscale('log')\n",
    "y_ticklocs=[0,20000,40000,60000,80000]\n",
    "y_ticklabels=['0','20k','40k','60k','80k']\n",
    "plt.yticks(y_ticklocs,y_ticklabels);\n",
    "plt.xlim([0,20]);\n",
    "plt.title('Member genders and User type effect on duration of travel and distance')"
   ]
  },
  {
   "cell_type": "code",
   "execution_count": null,
   "metadata": {},
   "outputs": [],
   "source": [
    "sb.boxplot(x=\"member_gender\", y=\"distance_(km)\", hue='user_type', data=plot)\n",
    "plt.ylim([0,20])\n",
    "plt.legend(bbox_to_anchor =(1.27, 1.25))"
   ]
  },
  {
   "cell_type": "markdown",
   "metadata": {},
   "source": [
    "From this visualization a large amount of customers go on longer trips, with the **Other** gender being the most frequent, this is the same for subscribers. Though there are more outliers of male Subscribers going on longer trips. Those who didn't ascribe a gender to themselves though also follow the trends of the **Other** gender closely"
   ]
  },
  {
   "cell_type": "code",
   "execution_count": null,
   "metadata": {},
   "outputs": [],
   "source": [
    "sb.boxplot(x=\"user_type\", y=\"duration_sec\", hue='member_gender', data=plot)\n",
    "# plt.ylim([0,20])\n",
    "plt.yscale('log')\n",
    "y_ticklocs=[1000,5e3,1e4,2e4,4e4,5e4,8e4]\n",
    "y_ticklabels=['1k','5k','10k','20k','40k','50k','80k']\n",
    "plt.yticks(y_ticklocs,y_ticklabels);\n",
    "plt.legend(bbox_to_anchor =(1.27, 1.25))"
   ]
  },
  {
   "cell_type": "markdown",
   "metadata": {},
   "source": [
    "From the analysis Males travels are faster and take lesser time compared to the rest of the genders  "
   ]
  },
  {
   "cell_type": "code",
   "execution_count": null,
   "metadata": {},
   "outputs": [],
   "source": [
    "sb.countplot(data=plot,x='member_gender',hue='user_type')\n",
    "plt.xlabel('Gender',labelpad=10)\n",
    "plt.ylabel('Count')\n",
    "plt.legend(title='Bike Share for all Trip')\n",
    "plt.title('Gender and Bike Sharing');"
   ]
  },
  {
   "cell_type": "markdown",
   "metadata": {},
   "source": [
    "# Conclusion"
   ]
  },
  {
   "cell_type": "markdown",
   "metadata": {},
   "source": [
    "After a taking a look at the various variables and carrying out univariate, bivariate and multivariate analysis. I found out that:\n",
    "- User type isn't related to neither the Age nor the Gender of the user.\n",
    "- the bias of the male gender probably distorted a lot of the visulizations.\n",
    "- The longer a trip was the more the probability of the gender being **male** or **Other**\n",
    "- Subscribers generally go on longer trips compared to customers excluding outliers\n",
    "- Males take lesser time on trips for the same distance"
   ]
  },
  {
   "cell_type": "code",
   "execution_count": null,
   "metadata": {},
   "outputs": [],
   "source": [
    "jupyter nbconvert project3.ipynb --to slides --post serve --no-input --no-prompt"
   ]
  }
 ],
 "metadata": {
  "kernelspec": {
   "display_name": "Python 3",
   "language": "python",
   "name": "python3"
  },
  "language_info": {
   "codemirror_mode": {
    "name": "ipython",
    "version": 3
   },
   "file_extension": ".py",
   "mimetype": "text/x-python",
   "name": "python",
   "nbconvert_exporter": "python",
   "pygments_lexer": "ipython3",
   "version": "3.7.4"
  }
 },
 "nbformat": 4,
 "nbformat_minor": 2
}
